{
 "cells": [
  {
   "cell_type": "code",
   "execution_count": null,
   "metadata": {
    "collapsed": true,
    "pycharm": {
     "name": "#%%\n",
     "is_executing": true
    }
   },
   "outputs": [],
   "source": [
    "tuple_list=[([1,2],[2,2],[1,0],[2,0]),([4,2],[5,2],[4,0],[5,0]), ([6,2],[7,2],[6,0],[7,0])]\n",
    "dist_list=0*len(tuple_list)-1\n",
    "width_list=0*len(tuple_list)\n",
    "def spacing():\n",
    "    index=0\n",
    "    minimum=0\n",
    "    total=0\n",
    "    average_calc=0\n",
    "    for previous, current in zip(tuple_list, tuple_list[1:]):\n",
    "        char1=tuple_list[previous]\n",
    "        char2=tuple_list[current]\n",
    "        distance=char2[3]-char1[4]\n",
    "        width_list[index]=char1[4]-char1[3]\n",
    "        dist_list[index]=distance\n",
    "        index+=1\n",
    "    for i in range(len(width_list)):\n",
    "        total+=width_list[i]\n",
    "    ideal_width=total/len(width_list)\n",
    "    for i in range(len(dist_list)):\n",
    "        if minimum==0:\n",
    "            minimum=dist_list[i]-ideal_width/2\n",
    "        if (dist_list[i]-ideal_width/2)<minimum:\n",
    "            minimum=dist_list[i]-ideal_width/2\n",
    "    for i in range(len(dist_list)):\n",
    "        average_calc+=abs(minimum-width_list[i])\n",
    "    average=10*(average_calc/len(dist_list))\n",
    "    return average\n",
    "\n",
    "\n",
    "\n",
    "\n",
    "\n",
    "\n",
    "\n",
    "\n",
    "\n",
    "\n",
    "\n",
    "\n",
    "\n"
   ]
  }
 ],
 "metadata": {
  "kernelspec": {
   "name": "pycharm-d8d33eb5",
   "language": "python",
   "display_name": "PyCharm (yourhandwritingsucks)"
  },
  "language_info": {
   "codemirror_mode": {
    "name": "ipython",
    "version": 2
   },
   "file_extension": ".py",
   "mimetype": "text/x-python",
   "name": "python",
   "nbconvert_exporter": "python",
   "pygments_lexer": "ipython2",
   "version": "2.7.6"
  }
 },
 "nbformat": 4,
 "nbformat_minor": 0
}