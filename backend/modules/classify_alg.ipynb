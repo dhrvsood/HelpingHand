{
 "cells": [
  {
   "cell_type": "code",
   "execution_count": 12,
   "metadata": {
    "collapsed": true,
    "pycharm": {
     "name": "#%%\n"
    }
   },
   "outputs": [
    {
     "name": "stdout",
     "output_type": "stream",
     "text": [
      "([1, 2], [2, 2], [1, 0], [2, 0]) ([4, 2], [5, 2], [4, 0], [5, 0])\n"
     ]
    },
    {
     "ename": "TypeError",
     "evalue": "list indices must be integers or slices, not tuple",
     "output_type": "error",
     "traceback": [
      "\u001B[1;31m---------------------------------------------------------------------------\u001B[0m",
      "\u001B[1;31mTypeError\u001B[0m                                 Traceback (most recent call last)",
      "\u001B[1;32m<ipython-input-12-ffcb499182cb>\u001B[0m in \u001B[0;36m<module>\u001B[1;34m\u001B[0m\n\u001B[0;32m     55\u001B[0m     \u001B[1;32mreturn\u001B[0m \u001B[0maverage\u001B[0m\u001B[1;33m\u001B[0m\u001B[1;33m\u001B[0m\u001B[0m\n\u001B[0;32m     56\u001B[0m \u001B[1;33m\u001B[0m\u001B[0m\n\u001B[1;32m---> 57\u001B[1;33m \u001B[0mprint\u001B[0m \u001B[1;33m(\u001B[0m\u001B[0mspacing\u001B[0m\u001B[1;33m(\u001B[0m\u001B[1;33m)\u001B[0m\u001B[1;33m)\u001B[0m\u001B[1;33m\u001B[0m\u001B[1;33m\u001B[0m\u001B[0m\n\u001B[0m\u001B[0;32m     58\u001B[0m \u001B[1;33m\u001B[0m\u001B[0m\n\u001B[0;32m     59\u001B[0m \u001B[1;33m\u001B[0m\u001B[0m\n",
      "\u001B[1;32m<ipython-input-12-ffcb499182cb>\u001B[0m in \u001B[0;36mspacing\u001B[1;34m()\u001B[0m\n\u001B[0;32m      9\u001B[0m     \u001B[1;32mfor\u001B[0m \u001B[0mprevious\u001B[0m\u001B[1;33m,\u001B[0m \u001B[0mcurrent\u001B[0m \u001B[1;32min\u001B[0m \u001B[0mzip\u001B[0m\u001B[1;33m(\u001B[0m\u001B[0mtuple_list\u001B[0m\u001B[1;33m,\u001B[0m \u001B[0mtuple_list\u001B[0m\u001B[1;33m[\u001B[0m\u001B[1;36m1\u001B[0m\u001B[1;33m:\u001B[0m\u001B[1;33m]\u001B[0m\u001B[1;33m)\u001B[0m\u001B[1;33m:\u001B[0m\u001B[1;33m\u001B[0m\u001B[1;33m\u001B[0m\u001B[0m\n\u001B[0;32m     10\u001B[0m         \u001B[0mprint\u001B[0m \u001B[1;33m(\u001B[0m\u001B[0mprevious\u001B[0m\u001B[1;33m,\u001B[0m\u001B[0mcurrent\u001B[0m\u001B[1;33m)\u001B[0m\u001B[1;33m\u001B[0m\u001B[1;33m\u001B[0m\u001B[0m\n\u001B[1;32m---> 11\u001B[1;33m         \u001B[0mchar1\u001B[0m\u001B[1;33m=\u001B[0m\u001B[0mtuple_list\u001B[0m\u001B[1;33m[\u001B[0m\u001B[0mprevious\u001B[0m\u001B[1;33m]\u001B[0m\u001B[1;33m\u001B[0m\u001B[1;33m\u001B[0m\u001B[0m\n\u001B[0m\u001B[0;32m     12\u001B[0m         \u001B[0mchar2\u001B[0m\u001B[1;33m=\u001B[0m\u001B[0mtuple_list\u001B[0m\u001B[1;33m[\u001B[0m\u001B[0mcurrent\u001B[0m\u001B[1;33m]\u001B[0m\u001B[1;33m\u001B[0m\u001B[1;33m\u001B[0m\u001B[0m\n\u001B[0;32m     13\u001B[0m         \u001B[0mdistance\u001B[0m\u001B[1;33m=\u001B[0m\u001B[0mchar2\u001B[0m\u001B[1;33m[\u001B[0m\u001B[1;36m2\u001B[0m\u001B[1;33m]\u001B[0m\u001B[1;33m.\u001B[0m\u001B[0mfirst\u001B[0m\u001B[1;33m-\u001B[0m\u001B[0mchar1\u001B[0m\u001B[1;33m[\u001B[0m\u001B[1;36m3\u001B[0m\u001B[1;33m]\u001B[0m\u001B[1;33m.\u001B[0m\u001B[0mfirst\u001B[0m\u001B[1;33m\u001B[0m\u001B[1;33m\u001B[0m\u001B[0m\n",
      "\u001B[1;31mTypeError\u001B[0m: list indices must be integers or slices, not tuple"
     ]
    }
   ],
   "source": [
    "tuple_list=[([1,2],[2,2],[1,0],[2,0]),([4,2],[5,2],[4,0],[5,0]), ([6,2],[7,2],[6,0],[7,0])]\n",
    "dist_list=0*len(tuple_list)-1\n",
    "width_list=0*len(tuple_list)\n",
    "def spacing():\n",
    "    index=0\n",
    "    minimum=0\n",
    "    total=0\n",
    "    average_calc=0\n",
    "    for previous, current in zip(tuple_list, tuple_list[1:]):\n",
    "        print (previous,current)\n",
    "        char1=tuple_list[previous]\n",
    "        char2=tuple_list[current]\n",
    "        distance=char2[2].first-char1[3].first\n",
    "        width_list[index]=char1[3].first-char1[2].first\n",
    "        dist_list[index]=distance\n",
    "        index+=1\n",
    "    for i in range(len(width_list)):\n",
    "        total+=width_list[i]\n",
    "    ideal_width=total/len(width_list)\n",
    "    for i in range(len(dist_list)):\n",
    "        if minimum==0:\n",
    "            minimum=dist_list[i]-ideal_width/2\n",
    "        if (dist_list[i]-ideal_width/2)<minimum:\n",
    "            minimum=dist_list[i]-ideal_width/2\n",
    "    for i in range(len(dist_list)):\n",
    "        average_calc+=abs(minimum-width_list[i])\n",
    "    average=100*(average_calc/len(dist_list))\n",
    "    return average\n",
    "\n",
    "def unevenness():\n",
    "    index=0\n",
    "    minimum=0\n",
    "    total=0\n",
    "    average_unevenness=0\n",
    "    baseline_arr=0*len(tuple_list)\n",
    "    ratings_arr=0*len(tuple_list)\n",
    "    for i in range(len(tuple_list)):\n",
    "        char=tuple_list[i]\n",
    "        baseline_arr[index]=char[1].second-(char[1].second-char[3].second)\n",
    "    for i in range(len(baseline_arr)):\n",
    "        total=baseline_arr[i]\n",
    "    average_baseline=total/len(baseline_arr)\n",
    "    for i in range(len(tuple_list)):\n",
    "        char=tuple_list[i]\n",
    "        if minimum==0:\n",
    "            minimum=char[3].second-average_baseline\n",
    "        if char[3].second-baseline_arr[i]<minimum:\n",
    "            minimum=char[3].second-average_baseline\n",
    "    for i in range(len(tuple_list)):\n",
    "        char=tuple_list[i]\n",
    "        ratings_arr[i]=abs((char[3].second-baseline_arr[i])-minimum)\n",
    "    for i in range(len(ratings_arr)):\n",
    "        average_unevenness+=ratings_arr[i]\n",
    "    average=100*(average_unevenness/len(ratings_arr))\n",
    "    return average\n",
    "\n",
    "print (spacing())\n",
    "\n",
    "\n",
    "\n",
    "\n",
    "\n",
    "\n",
    "\n",
    "\n",
    "\n",
    "\n",
    "\n",
    "\n",
    "\n",
    "\n",
    "\n",
    "\n"
   ]
  }
 ],
 "metadata": {
  "kernelspec": {
   "name": "pycharm-d8d33eb5",
   "language": "python",
   "display_name": "PyCharm (yourhandwritingsucks)"
  },
  "language_info": {
   "codemirror_mode": {
    "name": "ipython",
    "version": 2
   },
   "file_extension": ".py",
   "mimetype": "text/x-python",
   "name": "python",
   "nbconvert_exporter": "python",
   "pygments_lexer": "ipython2",
   "version": "2.7.6"
  }
 },
 "nbformat": 4,
 "nbformat_minor": 0
}