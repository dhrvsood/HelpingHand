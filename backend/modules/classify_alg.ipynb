{
 "cells": [
  {
   "cell_type": "code",
   "execution_count": 61,
   "metadata": {
    "collapsed": true,
    "pycharm": {
     "name": "#%%\n"
    }
   },
   "outputs": [
    {
     "name": "stdout",
     "output_type": "stream",
     "text": [
      "-2.0\n",
      "-0.5\n",
      "50.0\n"
     ]
    }
   ],
   "source": [
    "import sys\n",
    "tuple_list=[([1,1],[2,1],[2,4],[1,4]),([4,2],[5,2],[5,4],[4,4]), ([6,1],[7,1],[7,4],[6,4]),([8,0],[9,0],[7,4],[6,4])]\n",
    "dist_list=0*len(tuple_list)-1\n",
    "width_list=0*len(tuple_list)\n",
    "#def spacing():\n",
    "    #index=0\n",
    "    #minimum=0\n",
    "    #total=0\n",
    "    #average_calc=0\n",
    "    #for previous, current in zip(tuple_list, tuple_list[1:]):\n",
    "        #print (previous,current)\n",
    "        #char1=tuple_list[0]\n",
    "        #char2=tuple_list[1]\n",
    "        #distance=char2[2].first-char1[3].first\n",
    "        #width_list[index]=char1[3].first-char1[2].first\n",
    "        #dist_list[index]=distance\n",
    "        #index+=1\n",
    "    #for i in range(len(width_list)):\n",
    "        #total+=width_list[i]\n",
    "    #ideal_width=total/len(width_list)\n",
    "    #for i in range(len(dist_list)):\n",
    "        #if minimum==0:\n",
    "            #minimum=dist_list[i]-ideal_width/2\n",
    "        #if (dist_list[i]-ideal_width/2)<minimum:\n",
    "            #minimum=dist_list[i]-ideal_width/2\n",
    "    #for i in range(len(dist_list)):\n",
    "        #average_calc+=abs(minimum-width_list[i])\n",
    "    #average=100*(average_calc/len(dist_list))\n",
    "    #return average\n",
    "\n",
    "def unevenness():\n",
    "    index=0\n",
    "    minimum=sys.maxsize\n",
    "    total=0\n",
    "    average_unevenness=0\n",
    "    #set baseline to calculate whether the letters exist close to a line\n",
    "    baseline_arr=[0]*len(tuple_list)\n",
    "    #rate how close to the line the letter are on average\n",
    "    ratings_arr=[0]*len(tuple_list)\n",
    "    #take 1.5x the difference of top right and bottom right and subtract for coordinates for the baseline\n",
    "    for i in range(len(tuple_list)):\n",
    "        char=tuple_list[i]\n",
    "\n",
    "        ##need help with char identification\n",
    "        ##if f,i,k,l,t we do 1.2x\n",
    "        ##if y or j found, we do .8x?????\n",
    "        ##if d,g,q do it to char[3][1]-char[0][1]\n",
    "         ##if it is \"a\" \"o\" \"e\" etc\n",
    "        baseline_arr[i]=char[2][1]-1.5*(char[2][1]-char[1][1])\n",
    "    #get the average of the baselines to base the calculation\n",
    "    for i in range(len(baseline_arr)):\n",
    "        total+=baseline_arr[i]\n",
    "    print (total)\n",
    "    average_baseline=total/len(baseline_arr)\n",
    "    print (average_baseline)\n",
    "\n",
    "    #find the minimum distance between bottom rightmost corner and base_line\n",
    "    for i in range(len(tuple_list)):\n",
    "        char=tuple_list[i]\n",
    "        if char[1][1]-baseline_arr[i]<minimum:\n",
    "            minimum=char[1][1]-average_baseline\n",
    "    #take the difference between the lowest y-coordinate of \"a\" and average baseline and the minimum\n",
    "    for i in range(len(tuple_list)):\n",
    "        char=tuple_list[i]\n",
    "        ratings_arr[i]=abs((char[1][1]-average_baseline)-minimum)\n",
    "    for i in range(len(ratings_arr)):\n",
    "        average_unevenness+=ratings_arr[i]\n",
    "    average=100*(1-average_unevenness/len(ratings_arr))\n",
    "    return average\n",
    "\n",
    "print (unevenness())\n",
    "\n",
    "\n",
    "\n",
    "\n",
    "\n",
    "\n",
    "\n",
    "\n",
    "\n",
    "\n",
    "\n",
    "\n",
    "\n",
    "\n",
    "\n",
    "\n"
   ]
  }
 ],
 "metadata": {
  "kernelspec": {
   "name": "pycharm-d8d33eb5",
   "language": "python",
   "display_name": "PyCharm (yourhandwritingsucks)"
  },
  "language_info": {
   "codemirror_mode": {
    "name": "ipython",
    "version": 2
   },
   "file_extension": ".py",
   "mimetype": "text/x-python",
   "name": "python",
   "nbconvert_exporter": "python",
   "pygments_lexer": "ipython2",
   "version": "2.7.6"
  }
 },
 "nbformat": 4,
 "nbformat_minor": 0
}